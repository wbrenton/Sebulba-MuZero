{
 "cells": [
  {
   "cell_type": "code",
   "execution_count": 2,
   "metadata": {},
   "outputs": [],
   "source": [
    "import jax\n",
    "import jax.numpy as jnp\n",
    "from flax import struct\n"
   ]
  },
  {
   "cell_type": "code",
   "execution_count": 3,
   "metadata": {},
   "outputs": [],
   "source": [
    "@struct.dataclass\n",
    "class Rollout:\n",
    "    \"\"\"A class for storing batched rollout data with methods for padding\"\"\"\n",
    "    obs: jnp.ndarray\n",
    "    actions: jnp.ndarray\n",
    "    value_targets: jnp.ndarray\n",
    "    policy_targets: jnp.ndarray\n",
    "    rewards: jnp.ndarray\n",
    "    dones: jnp.ndarray\n",
    "    priorities: jnp.ndarray\n",
    "\n",
    "@struct.dataclass\n",
    "class GameHistory:\n",
    "    observations: jnp.ndarray\n",
    "    actions: jnp.ndarray\n",
    "    values: jnp.ndarray\n",
    "    policies: jnp.ndarray\n",
    "    rewards: jnp.ndarray\n",
    "    dones: jnp.ndarray\n",
    "\n",
    "\n",
    "local_num_envs = 100\n",
    "num_steps = 500\n",
    "num_actions = 4"
   ]
  },
  {
   "cell_type": "code",
   "execution_count": 4,
   "metadata": {},
   "outputs": [],
   "source": [
    "import zstandard as zstd\n",
    "from jax import flatten_util"
   ]
  },
  {
   "cell_type": "code",
   "execution_count": 32,
   "metadata": {},
   "outputs": [],
   "source": [
    "# flatten pytree to a single array\n",
    "rollout = Rollout(\n",
    "    obs = jnp.zeros((local_num_envs, num_steps, 3, 84, 84)),\n",
    "    actions = jnp.zeros((local_num_envs, num_steps)),\n",
    "    value_targets = jnp.zeros((local_num_envs, num_steps)),\n",
    "    policy_targets = jnp.zeros((local_num_envs, num_steps, num_actions)),\n",
    "    rewards = jnp.zeros((local_num_envs, num_steps)),\n",
    "    dones = jnp.zeros((local_num_envs, num_steps)),\n",
    "    priorities = jnp.zeros((local_num_envs, num_steps)),\n",
    ")"
   ]
  },
  {
   "cell_type": "code",
   "execution_count": 35,
   "metadata": {},
   "outputs": [
    {
     "data": {
      "text/plain": [
       "10000000"
      ]
     },
     "execution_count": 35,
     "metadata": {},
     "output_type": "execute_result"
    }
   ],
   "source": [
    "50_000 * 200"
   ]
  },
  {
   "cell_type": "code",
   "execution_count": 36,
   "metadata": {},
   "outputs": [],
   "source": [
    "flatten_fn = jax.vmap(lambda x: flatten_util.ravel_pytree(x)[0]) # batched rollout to flattened rollouts\n",
    "flat_example, unflatten_fn = flatten_util.ravel_pytree(rollout)\n",
    "unflatten_fn = jax.vmap(unflatten_fn) #"
   ]
  },
  {
   "cell_type": "code",
   "execution_count": 37,
   "metadata": {},
   "outputs": [
    {
     "name": "stdout",
     "output_type": "stream",
     "text": [
      "type:  <class 'jaxlib.xla_extension.ArrayImpl'>\n",
      "shape:  (100, 10588500)\n",
      "nbytes:  4235400000\n",
      "tobytes nbytes:  4235400000\n",
      "ngbytes:  3.8986575407139363\n"
     ]
    }
   ],
   "source": [
    "flat_rollout = flatten_fn(rollout)\n",
    "flat_rollout_bytes = flat_rollout.tobytes()\n",
    "print(\"type: \", type(flat_rollout))\n",
    "print(\"shape: \", flat_rollout.shape)\n",
    "print(\"nbytes: \", flat_rollout.nbytes)\n",
    "print(\"tobytes nbytes: \", len(flat_rollout_bytes))\n",
    "print(\"ngbytes: \", flat_rollout.nbytes / 1028**3)"
   ]
  },
  {
   "cell_type": "code",
   "execution_count": 21,
   "metadata": {},
   "outputs": [],
   "source": [
    "compressor = zstd.ZstdCompressor()\n",
    "decompressor = zstd.ZstdDecompressor()"
   ]
  },
  {
   "cell_type": "code",
   "execution_count": 22,
   "metadata": {},
   "outputs": [
    {
     "data": {
      "text/plain": [
       "25871"
      ]
     },
     "execution_count": 22,
     "metadata": {},
     "output_type": "execute_result"
    }
   ],
   "source": [
    "compressed_flat_rollout = compressor.compress(flat_rollout_bytes)\n",
    "decompressed_flat_rollout_bytes = decompressor.decompress(compressed_flat_rollout)\n",
    "flat_rollout_reconstruciton = jnp.frombuffer(decompressed_flat_rollout_bytes, dtype=jnp.float32)"
   ]
  },
  {
   "cell_type": "code",
   "execution_count": 28,
   "metadata": {},
   "outputs": [],
   "source": [
    "rollout = unflatten_fn(flat_rollout_reconstruciton)"
   ]
  },
  {
   "cell_type": "code",
   "execution_count": null,
   "metadata": {},
   "outputs": [],
   "source": [
    "# put rollout on learner device and add rollout to queue\n",
    "# transfer rollout to (game_history, priority) tuple\n",
    "# add (game_history, priority) to replay buffer"
   ]
  },
  {
   "attachments": {},
   "cell_type": "markdown",
   "metadata": {},
   "source": [
    "### Prototyping "
   ]
  },
  {
   "cell_type": "code",
   "execution_count": 1,
   "metadata": {},
   "outputs": [],
   "source": [
    "import jax\n",
    "import jax.numpy as jnp\n",
    "from flax import struct\n",
    "import zstandard as zstd\n",
    "from jax import flatten_util\n",
    "\n",
    "local_num_envs = 100\n",
    "num_steps = 500\n",
    "num_actions = 4\n",
    "\n",
    "@struct.dataclass\n",
    "class Batch:\n",
    "    observation: jnp.ndarray\n",
    "    action: jnp.ndarray\n",
    "    value: jnp.ndarray\n",
    "    policy: jnp.ndarray\n",
    "    reward: jnp.ndarray\n",
    "    weight: jnp.ndarray\n",
    "    index: jnp.ndarray\n",
    "\n",
    "\n",
    "@struct.dataclass\n",
    "class GameHistory:\n",
    "    observations: jnp.ndarray\n",
    "    actions: jnp.ndarray\n",
    "    values: jnp.ndarray\n",
    "    policies: jnp.ndarray\n",
    "    rewards: jnp.ndarray\n",
    "    dones: jnp.ndarray\n",
    "    \n",
    "    def index(self, i):\n",
    "        return Batch(\n",
    "            observations=self.observations[i],\n",
    "            actions=self.actions[i],\n",
    "            values=self.values[i],\n",
    "            policies=self.policies[i],\n",
    "            rewards=self.rewards[i],\n",
    "            dones=self.dones[i],\n",
    "        )"
   ]
  },
  {
   "cell_type": "code",
   "execution_count": 4,
   "metadata": {},
   "outputs": [
    {
     "name": "stdout",
     "output_type": "stream",
     "text": [
      "GB:  3.9443373680114746\n"
     ]
    }
   ],
   "source": [
    "game_history = GameHistory(\n",
    "    observations=jnp.zeros((local_num_envs, num_steps, 3, 84, 84)),\n",
    "    actions = jnp.zeros((local_num_envs, num_steps)),\n",
    "    values = jnp.zeros((local_num_envs, num_steps)),\n",
    "    policies = jnp.zeros((local_num_envs, num_steps, num_actions)),\n",
    "    rewards = jnp.zeros((local_num_envs, num_steps)),\n",
    "    dones = jnp.zeros((local_num_envs, num_steps)),\n",
    ")\n",
    "\n",
    "test = flatten_util.ravel_pytree(game_history)[0]\n",
    "bytes = test.tobytes()\n",
    "print(\"GB: \", len(bytes) / 1024**3)"
   ]
  },
  {
   "cell_type": "code",
   "execution_count": 3,
   "metadata": {},
   "outputs": [],
   "source": [
    "class ReplayBuffer:\n",
    "    \"\"\"\n",
    "    - priorities is of the shape (compression_dim, batch_dim, time_dim)\n",
    "    \"\"\"\n",
    "    def __init__(self):\n",
    "        self.batch_size\n",
    "        self.timesteps_seen = 0\n",
    "\n",
    "        self.compressor = zstd.ZstdCompressor()\n",
    "        self.decompressor = zstd.ZstdDecompressor()\n",
    "\n",
    "        self.buffer = []\n",
    "        self.priorities = None\n",
    "\n",
    "    def add(self, b_game_history, b_priority):\n",
    "        if not self._started():\n",
    "            self._setup(b_game_history)\n",
    "            self.priorities = jnp.expand_dims(b_priority, axis=0) # add compression dim\n",
    "        else:\n",
    "            b_priority = jnp.expand_dims(b_priority, axis=0) # add compression dim\n",
    "            self.priorities = jnp.concatenate((self.priorities, b_priority), axis=0) # concat along compression dim\n",
    "\n",
    "        b_compressed = self._compress(b_game_history)\n",
    "        self.buffer.append(b_compressed)\n",
    "        del b_game_history\n",
    "\n",
    "    def sample(self, key):\n",
    "        index, weights = self._sample(key)\n",
    "        buffer_index, batch_index, time_index = index\n",
    "        decompression_index = jnp.unique(buffer_index)\n",
    "        batch = self.emtpy_batch(index, weights)\n",
    "        for i in decompression_index:\n",
    "            b_game_history = self._decompress(self.buffer[i])\n",
    "            b_index = jnp.where(buffer_index == i)\n",
    "            b_batch_index = batch_index[b_index]\n",
    "            b_time_index = time_index[b_index]\n",
    "            batch = b_game_history.index(batch, b_batch_index, b_time_index)\n",
    "\n",
    "        del b_game_history\n",
    "        return batch\n",
    "    \n",
    "    # cant jit unless priorities shape is static\n",
    "    def _sample(self, key):\n",
    "        flat_priorities = self.priorities.ravel()\n",
    "        probs /= flat_priorities.sum()\n",
    "        flat_index = jax.random.choice(key, len(flat_priorities), shape=self.batch_size, replace=False, p=probs)\n",
    "        sampled_weights = (1 / len(flat_priorities)) / probs[flat_index]\n",
    "        sampled_index = jnp.unravel_index(flat_index, self.priorities.shape) \n",
    "        return sampled_index, sampled_weights\n",
    "\n",
    "    def _compress(self, data):\n",
    "        flat = self.flatten_fn(data)\n",
    "        bytes = flat.tobytes()\n",
    "        compressed = self.compressor.compress(bytes)\n",
    "        del data, flat, bytes\n",
    "        return compressed\n",
    "\n",
    "    def _decompress(self, data):\n",
    "        bytes = self.decompressor.decompress(data)\n",
    "        flat = jnp.frombuffer(bytes, dtype=jnp.float32)\n",
    "        d_data = self.unflatten_fn(flat)\n",
    "        del data, bytes, flat\n",
    "        return d_data\n",
    "\n",
    "    def _setup(self, b_game_history):\n",
    "        self.flatten_fn = lambda x: flatten_util.ravel_pytree(x)[0]\n",
    "        self.flat_b_game_history_example, self.unflatten_fn = flatten_util.ravel_pytree(b_game_history)\n",
    "        \n",
    "        self.flatten_fn = jax.jit(self.flatten_fn)\n",
    "        self.unflatten_fn = jax.jit(self.unflatten_fn)\n",
    "\n",
    "    def emtpy_batch(self, index, weights):\n",
    "        return Batch(\n",
    "            observation=jnp.zeros((self.batch_size, 3, 84, 84)),\n",
    "            action=jnp.zeros((self.batch_size)),\n",
    "            value=jnp.zeros((self.batch_size)),\n",
    "            policy=jnp.zeros((self.batch_size, self.num_actions)),\n",
    "            reward=jnp.zeros((self.batch_size)),\n",
    "            done=jnp.zeros((self.batch_size)),\n",
    "            weights=weights,\n",
    "            index=index,\n",
    "        )\n",
    "\n",
    "    def _started(self):\n",
    "        return self.timesteps_seen > 0"
   ]
  },
  {
   "cell_type": "code",
   "execution_count": 5,
   "metadata": {},
   "outputs": [],
   "source": [
    "replay_buffer = ReplayBuffer()\n",
    "\n",
    "priorities = jnp.ones((local_num_envs, num_steps))\n",
    "replay_buffer.add(game_history, priorities)"
   ]
  },
  {
   "attachments": {},
   "cell_type": "markdown",
   "metadata": {},
   "source": [
    "# Testing \n",
    "- Goal\n",
    "    - determine which is faster\n",
    "        - performing more zstd operations on smaller arrays \n",
    "        - performing fewer zstd operations on larger arrays\n",
    "\n",
    "    - this will determine how to build the replay buffer\n",
    "        - hypothesis: fewer zstd operations on larger arrays is faster"
   ]
  },
  {
   "cell_type": "code",
   "execution_count": 4,
   "metadata": {},
   "outputs": [],
   "source": [
    "import time\n",
    "\n",
    "compressor = zstd.ZstdCompressor()\n",
    "decompressor = zstd.ZstdDecompressor()\n",
    "\n",
    "def simple_timit(fn, args, num_trials):\n",
    "    times = []\n",
    "    for _ in range(num_trials):\n",
    "        start = time.time()\n",
    "        fn(args)\n",
    "        end = time.time()\n",
    "        times.append(end - start)\n",
    "    print(\"mean: \", sum(times) / len(times))\n",
    "    print(\"min: \", min(times))\n",
    "    print(\"max: \", max(times))\n",
    "    print(times)\n",
    "\n",
    "batched_flatten_fn = jax.vmap(lambda x: flatten_util.ravel_pytree(x)[0]) \n",
    "\n",
    "def more_smaller_ops(b_flat):\n",
    "    compressed_list = []\n",
    "    for i in range(len(b_flat)):\n",
    "        flat = b_flat[i]\n",
    "        bytes = flat.tobytes()\n",
    "        compressed = compressor.compress(bytes)\n",
    "        compressed_list.append(compressed)\n",
    "\n",
    "    # for i in range(len(compressed_list)):\n",
    "    #     compressed = compressed_list[i]\n",
    "    #     bytes = decompressor.decompress(compressed)\n",
    "    #     flat = jnp.frombuffer(bytes, dtype=jnp.float32)\n",
    "\n",
    "\n",
    "flatten_fn = lambda x: flatten_util.ravel_pytree(x)[0]\n",
    "\n",
    "\n",
    "def less_bigger_ops(arr):\n",
    "    compressor = zstd.ZstdCompressor()\n",
    "    decompressor = zstd.ZstdDecompressor()\n",
    "    flat = flatten_fn(arr)\n",
    "    bytes = flat.tobytes()\n",
    "    compressed = compressor.compress(bytes)\n",
    "    bytes = decompressor.decompress(compressed)\n",
    "    flat = jnp.frombuffer(bytes, dtype=jnp.float32)\n",
    "    return flat"
   ]
  },
  {
   "cell_type": "code",
   "execution_count": 12,
   "metadata": {},
   "outputs": [
    {
     "name": "stdout",
     "output_type": "stream",
     "text": [
      "mean:  6.7116758823394775\n",
      "min:  6.511224269866943\n",
      "max:  7.019108295440674\n",
      "[6.511224269866943, 6.511491298675537, 6.555873870849609, 6.587079048156738, 6.634561538696289, 6.790647745132446, 7.019108295440674, 6.890180349349976, 6.8210227489471436, 6.795569658279419]\n"
     ]
    }
   ],
   "source": [
    "# more smaller ops\n",
    "compressor = zstd.ZstdCompressor()\n",
    "decompressor = zstd.ZstdDecompressor()\n",
    "\n",
    "def compress_batch(b_flat):\n",
    "    compressed_list = []\n",
    "    for i in range(len(b_flat)):\n",
    "        flat = b_flat[i]\n",
    "        bytes = flat.tobytes()\n",
    "        compressed = compressor.compress(bytes)\n",
    "        compressed_list.append(compressed)\n",
    "\n",
    "b_flat = batched_flatten_fn(game_history)\n",
    "simple_timit(compress_batch, b_flat, 10)"
   ]
  },
  {
   "cell_type": "code",
   "execution_count": 19,
   "metadata": {},
   "outputs": [],
   "source": [
    "compressor = zstd.ZstdCompressor()\n",
    "decompressor = zstd.ZstdDecompressor()\n",
    "\n",
    "flat = b_flat\n",
    "bytes = flat.tobytes()\n",
    "compressed_bytes = compressor.compress(bytes)"
   ]
  },
  {
   "cell_type": "code",
   "execution_count": 20,
   "metadata": {},
   "outputs": [],
   "source": [
    "\n",
    "def decompress(bytes):\n",
    "    #bytes = flat.tobytes()\n",
    "    bytes = decompressor.decompress(bytes)\n",
    "    flat = jnp.frombuffer(bytes, dtype=jnp.float32)"
   ]
  },
  {
   "cell_type": "code",
   "execution_count": 21,
   "metadata": {},
   "outputs": [
    {
     "name": "stdout",
     "output_type": "stream",
     "text": [
      "mean:  2.9494717121124268\n",
      "min:  2.8094582557678223\n",
      "max:  3.0224905014038086\n",
      "[2.8094582557678223, 3.0224905014038086, 3.0164663791656494]\n"
     ]
    }
   ],
   "source": [
    "simple_timit(decompress, compressed_bytes, 3)"
   ]
  },
  {
   "cell_type": "code",
   "execution_count": 20,
   "metadata": {},
   "outputs": [],
   "source": [
    "key = jax.random.PRNGKey(0)\n",
    "\n",
    "p = jax.random.uniform(key, (local_num_envs, num_steps))"
   ]
  },
  {
   "cell_type": "code",
   "execution_count": 21,
   "metadata": {},
   "outputs": [],
   "source": [
    "flat_p = p.ravel()"
   ]
  },
  {
   "cell_type": "code",
   "execution_count": 33,
   "metadata": {},
   "outputs": [
    {
     "data": {
      "text/plain": [
       "Array([0.9138651 , 0.19609296, 0.20922542, ..., 0.0251435 , 0.4541422 ,\n",
       "       0.7397864 ], dtype=float32)"
      ]
     },
     "execution_count": 33,
     "metadata": {},
     "output_type": "execute_result"
    },
    {
     "ename": "",
     "evalue": "",
     "output_type": "error",
     "traceback": [
      "\u001b[1;31mThe Kernel crashed while executing code in the the current cell or a previous cell. Please review the code in the cell(s) to identify a possible cause of the failure. Click <a href='https://aka.ms/vscodeJupyterKernelCrash'>here</a> for more info. View Jupyter <a href='command:jupyter.viewOutput'>log</a> for further details."
     ]
    }
   ],
   "source": [
    "indicies = jax.random.choice(key, flat_p, shape=(1024,), replace=False)\n",
    "indicies"
   ]
  },
  {
   "cell_type": "code",
   "execution_count": 30,
   "metadata": {},
   "outputs": [],
   "source": [
    "b_index = jnp.unravel_index(indicies, p.shape)"
   ]
  },
  {
   "cell_type": "code",
   "execution_count": 31,
   "metadata": {},
   "outputs": [
    {
     "data": {
      "text/plain": [
       "(Array([94, 55, 68, ..., 22,  6, 42], dtype=int32),\n",
       " Array([440, 384, 275, ..., 212, 355, 309], dtype=int32))"
      ]
     },
     "execution_count": 31,
     "metadata": {},
     "output_type": "execute_result"
    }
   ],
   "source": [
    "b_index"
   ]
  },
  {
   "cell_type": "code",
   "execution_count": 32,
   "metadata": {},
   "outputs": [
    {
     "data": {
      "text/plain": [
       "Array([0.9138651 , 0.19609296, 0.20922542, ..., 0.0251435 , 0.4541422 ,\n",
       "       0.7397864 ], dtype=float32)"
      ]
     },
     "execution_count": 32,
     "metadata": {},
     "output_type": "execute_result"
    }
   ],
   "source": [
    "p[b_index]"
   ]
  },
  {
   "cell_type": "code",
   "execution_count": 26,
   "metadata": {},
   "outputs": [
    {
     "data": {
      "text/plain": [
       "Array([[ 0,  1,  2,  3],\n",
       "       [ 4,  5,  6,  7],\n",
       "       [ 8,  9, 10, 11]], dtype=int32)"
      ]
     },
     "execution_count": 26,
     "metadata": {},
     "output_type": "execute_result"
    }
   ],
   "source": [
    "matrix = jnp.arange(12).reshape((3, 4))\n",
    "matrix"
   ]
  },
  {
   "cell_type": "code",
   "execution_count": 27,
   "metadata": {},
   "outputs": [
    {
     "data": {
      "text/plain": [
       "Array([ 0,  1,  2,  3,  4,  5,  6,  7,  8,  9, 10, 11], dtype=int32)"
      ]
     },
     "execution_count": 27,
     "metadata": {},
     "output_type": "execute_result"
    }
   ],
   "source": [
    "flat = matrix.ravel()\n",
    "flat"
   ]
  },
  {
   "cell_type": "code",
   "execution_count": 28,
   "metadata": {},
   "outputs": [
    {
     "data": {
      "text/plain": [
       "(Array(1, dtype=int32, weak_type=True), Array(1, dtype=int32, weak_type=True))"
      ]
     },
     "execution_count": 28,
     "metadata": {},
     "output_type": "execute_result"
    }
   ],
   "source": [
    "index = 5\n",
    "original_index = jnp.unravel_index(index, matrix.shape)\n",
    "original_index"
   ]
  },
  {
   "cell_type": "code",
   "execution_count": null,
   "metadata": {},
   "outputs": [],
   "source": [
    "np.prod(matrix.shape)"
   ]
  },
  {
   "cell_type": "code",
   "execution_count": null,
   "metadata": {},
   "outputs": [],
   "source": []
  }
 ],
 "metadata": {
  "kernelspec": {
   "display_name": "venv",
   "language": "python",
   "name": "python3"
  },
  "language_info": {
   "codemirror_mode": {
    "name": "ipython",
    "version": 3
   },
   "file_extension": ".py",
   "mimetype": "text/x-python",
   "name": "python",
   "nbconvert_exporter": "python",
   "pygments_lexer": "ipython3",
   "version": "3.9.5"
  },
  "orig_nbformat": 4,
  "vscode": {
   "interpreter": {
    "hash": "49e87844a918d950325a3a0cc2221165525f00726114887a5d3507ea4bccabb8"
   }
  }
 },
 "nbformat": 4,
 "nbformat_minor": 2
}
