{
 "cells": [
  {
   "cell_type": "code",
   "execution_count": 1,
   "metadata": {},
   "outputs": [],
   "source": [
    "import jax\n",
    "import jax.numpy as jnp\n",
    "from flax import struct\n",
    "\n",
    "from jax.flatten_util import ravel_pytree"
   ]
  },
  {
   "cell_type": "code",
   "execution_count": 2,
   "metadata": {},
   "outputs": [],
   "source": [
    "@struct.dataclass\n",
    "class Trajectory:\n",
    "    observation: jnp.ndarray\n",
    "    action: jnp.ndarray\n",
    "    value_target: jnp.ndarray\n",
    "    policy_target: jnp.ndarray\n",
    "    reward_target: jnp.ndarray\n",
    "    priority: jnp.ndarray"
   ]
  },
  {
   "cell_type": "code",
   "execution_count": 15,
   "metadata": {},
   "outputs": [],
   "source": [
    "batch = 32\n",
    "time = 10\n",
    "trajectory = Trajectory(\n",
    "    observation= jnp.zeros((batch, 128, 84, 84)),\n",
    "    action= jnp.zeros((batch)),\n",
    "    value_target=jnp.zeros((batch)),\n",
    "    policy_target=jnp.zeros((batch, 4)),\n",
    "    reward_target=jnp.zeros((batch)),\n",
    "    priority=jnp.zeros((batch))\n",
    ")\n"
   ]
  },
  {
   "cell_type": "code",
   "execution_count": 28,
   "metadata": {},
   "outputs": [],
   "source": [
    "flatten_fn = jax.vmap(lambda x: ravel_pytree(x)[0]) # to be used on a single trajectory\n",
    "_, unflatten_fn = ravel_pytree(trajectory)\n",
    "unflatten_fn = jax.vmap(unflatten_fn) # to be used on entire replay_buffer"
   ]
  },
  {
   "attachments": {},
   "cell_type": "markdown",
   "metadata": {},
   "source": [
    "# Try brax uniform sampling buffer with your trajectory to better understand how it works \n",
    "# then introduce PER"
   ]
  },
  {
   "cell_type": "code",
   "execution_count": null,
   "metadata": {},
   "outputs": [],
   "source": [
    "from typing import Any, Tuple\n",
    "from jax.random import PRNGKey\n",
    "\n",
    "State = Any\n",
    "Sample = Any\n",
    "\n",
    "@struct.dataclass\n",
    "class ReplayBufferState:\n",
    "  \"\"\"Contains data related to a replay buffer.\"\"\"\n",
    "  data: jnp.ndarray\n",
    "  current_position: jnp.ndarray\n",
    "  current_size: jnp.ndarray\n",
    "  key: PRNGKey\n",
    "\n",
    "class ReplayBuffer:\n",
    "  \"\"\"\n",
    "  Priotized experience replay buffer.\n",
    "  \n",
    "  Modified port of brax.training.replay_buffers\n",
    "  https://github.com/google/brax/blob/b373f5a45e62189a4a260131c17b10181ccda96a/brax/training/replay_buffers.py\n",
    "  \n",
    "  \"\"\"\n",
    "\n",
    "  def __init__(self, max_replay_size: int, dummy_data_sample: Sample,\n",
    "               sample_batch_size: int) -> State:\n",
    "    \"\"\"Init the replay buffer.\"\"\"\n",
    "    self._flatten_fn = jax.vmap(lambda x: ravel_pytree(x)[0])\n",
    "\n",
    "    dummy_flatten, self._unflatten_fn = ravel_pytree(dummy_data_sample)\n",
    "    self._unflatten_fn = jax.vmap(self._unflatten_fn)\n",
    "    data_size = len(dummy_flatten)\n",
    "\n",
    "    self._data_shape = (max_replay_size, data_size)\n",
    "    self._data_dtype = dummy_flatten.dtype\n",
    "    self._sample_batch_size = sample_batch_size\n",
    "    \n",
    "  def init(self, key: PRNGKey) -> ReplayBufferState:\n",
    "      return ReplayBufferState(\n",
    "        data=jnp.zeros(self._data_shape, self._data_dtype),\n",
    "        current_size=jnp.zeros((), jnp.int32),\n",
    "        current_position=jnp.zeros((), jnp.int32),\n",
    "        key=key)\n",
    "\n",
    "  def insert(self, buffer_state: State, samples: Sample) -> State:\n",
    "    \"\"\"Insert data in the replay buffer.\n",
    "\n",
    "    Args:\n",
    "      buffer_state: Buffer state\n",
    "      samples: Sample to insert with a leading batch size.\n",
    "\n",
    "    Returns:\n",
    "      New buffer state.\n",
    "    \"\"\"\n",
    "    if buffer_state.data.shape != self._data_shape:\n",
    "      raise ValueError(\n",
    "          f'buffer_state.data.shape ({buffer_state.data.shape}) '\n",
    "          f'doesn\\'t match the expected value ({self._data_shape})')\n",
    "\n",
    "    update = self._flatten_fn(samples)\n",
    "    data = buffer_state.data\n",
    "\n",
    "    # Make sure update is not larger than the maximum replay size.\n",
    "    if len(update) > len(data):\n",
    "      raise ValueError(\n",
    "          'Trying to insert a batch of samples larger than the maximum replay '\n",
    "          f'size. num_samples: {len(update)}, max replay size {len(data)}')\n",
    "\n",
    "    # If needed, roll the buffer to make sure there's enough space to fit\n",
    "    # `update` after the current position.\n",
    "    position = buffer_state.current_position\n",
    "    roll = jnp.minimum(0, len(data) - position - len(update))\n",
    "    data = jax.lax.cond(roll, lambda: jnp.roll(data, roll, axis=0),\n",
    "                        lambda: data)\n",
    "    position = position + roll\n",
    "\n",
    "    # Update the buffer and the control numbers.\n",
    "    data = jax.lax.dynamic_update_slice_in_dim(data, update, position, axis=0)\n",
    "    position = (position + len(update)) % len(data)\n",
    "    size = jnp.minimum(buffer_state.current_size + len(update), len(data))\n",
    "\n",
    "    return buffer_state.replace(\n",
    "        data=data, current_position=position, current_size=size)\n",
    "\n",
    "  def sample(self, buffer_state: State) -> Tuple[State, Sample]:\n",
    "    \"\"\"Sample a batch of data according to prioritized experience replay.\"\"\"\n",
    "    \n",
    "    \n",
    "\n",
    "  def size(self, buffer_state: State) -> int:\n",
    "    \"\"\"Total amount of elements that are sampleable.\"\"\""
   ]
  },
  {
   "attachments": {},
   "cell_type": "markdown",
   "metadata": {},
   "source": [
    "# Replay Buffer Logic\n",
    "- ReplayBufferState\n",
    "    - data : batch of flattened trajectories\n",
    "    - current_size: \n",
    "    - current_position\n",
    "    - key\n",
    "\n",
    "- Flattening / Unflattening ops\n",
    "    - flatten_trajectory: ```vmap(lambda x: ravel_pytree(x)[0])```\n",
    "    - unflatten_trajectory: ```dummy_flatten, jax.vmap(self._unflatten_fn) = flatten_util.ravel_pytree(dummy_data_sample) ```"
   ]
  },
  {
   "cell_type": "markdown",
   "metadata": {},
   "source": []
  },
  {
   "cell_type": "code",
   "execution_count": 33,
   "metadata": {},
   "outputs": [
    {
     "ename": "TypeError",
     "evalue": "start_indices arguments to dynamic_slice must be scalars,  got indices (ShapedArray(int32[5]), ShapedArray(int32[]))",
     "output_type": "error",
     "traceback": [
      "\u001b[0;31m---------------------------------------------------------------------------\u001b[0m",
      "\u001b[0;31mTypeError\u001b[0m                                 Traceback (most recent call last)",
      "Cell \u001b[0;32mIn[33], line 4\u001b[0m\n\u001b[1;32m      1\u001b[0m \u001b[39m# example of how to use dynamic slice in dim\u001b[39;00m\n\u001b[1;32m      3\u001b[0m arr \u001b[39m=\u001b[39m jnp\u001b[39m.\u001b[39marange(\u001b[39m20\u001b[39m)\u001b[39m.\u001b[39mreshape((\u001b[39m5\u001b[39m, \u001b[39m4\u001b[39m))\n\u001b[0;32m----> 4\u001b[0m test \u001b[39m=\u001b[39m jax\u001b[39m.\u001b[39;49mlax\u001b[39m.\u001b[39;49mdynamic_slice_in_dim(arr, jnp\u001b[39m.\u001b[39;49marray([\u001b[39m1\u001b[39;49m, \u001b[39m2\u001b[39;49m, \u001b[39m3\u001b[39;49m, \u001b[39m4\u001b[39;49m, \u001b[39m5\u001b[39;49m]), \u001b[39m1\u001b[39;49m, axis\u001b[39m=\u001b[39;49m\u001b[39m0\u001b[39;49m)\n",
      "File \u001b[0;32m~/opt/anaconda3/envs/brax/lib/python3.9/site-packages/jax/_src/lax/slicing.py:691\u001b[0m, in \u001b[0;36mdynamic_slice_in_dim\u001b[0;34m(operand, start_index, slice_size, axis)\u001b[0m\n\u001b[1;32m    689\u001b[0m start_indices[axis] \u001b[39m=\u001b[39m start_index\n\u001b[1;32m    690\u001b[0m slice_sizes[axis] \u001b[39m=\u001b[39m core\u001b[39m.\u001b[39m_canonicalize_dimension(slice_size)\n\u001b[0;32m--> 691\u001b[0m \u001b[39mreturn\u001b[39;00m dynamic_slice(operand, start_indices, slice_sizes)\n",
      "File \u001b[0;32m~/opt/anaconda3/envs/brax/lib/python3.9/site-packages/jax/_src/lax/slicing.py:105\u001b[0m, in \u001b[0;36mdynamic_slice\u001b[0;34m(operand, start_indices, slice_sizes)\u001b[0m\n\u001b[1;32m    103\u001b[0m   dynamic_sizes \u001b[39m=\u001b[39m []\n\u001b[1;32m    104\u001b[0m   static_sizes \u001b[39m=\u001b[39m core\u001b[39m.\u001b[39mcanonicalize_shape(slice_sizes)  \u001b[39m# type: ignore\u001b[39;00m\n\u001b[0;32m--> 105\u001b[0m \u001b[39mreturn\u001b[39;00m dynamic_slice_p\u001b[39m.\u001b[39;49mbind(operand, \u001b[39m*\u001b[39;49mstart_indices, \u001b[39m*\u001b[39;49mdynamic_sizes,\n\u001b[1;32m    106\u001b[0m                             slice_sizes\u001b[39m=\u001b[39;49m\u001b[39mtuple\u001b[39;49m(static_sizes))\n",
      "File \u001b[0;32m~/opt/anaconda3/envs/brax/lib/python3.9/site-packages/jax/_src/core.py:343\u001b[0m, in \u001b[0;36mPrimitive.bind\u001b[0;34m(self, *args, **params)\u001b[0m\n\u001b[1;32m    340\u001b[0m \u001b[39mdef\u001b[39;00m \u001b[39mbind\u001b[39m(\u001b[39mself\u001b[39m, \u001b[39m*\u001b[39margs, \u001b[39m*\u001b[39m\u001b[39m*\u001b[39mparams):\n\u001b[1;32m    341\u001b[0m   \u001b[39massert\u001b[39;00m (\u001b[39mnot\u001b[39;00m config\u001b[39m.\u001b[39mjax_enable_checks \u001b[39mor\u001b[39;00m\n\u001b[1;32m    342\u001b[0m           \u001b[39mall\u001b[39m(\u001b[39misinstance\u001b[39m(arg, Tracer) \u001b[39mor\u001b[39;00m valid_jaxtype(arg) \u001b[39mfor\u001b[39;00m arg \u001b[39min\u001b[39;00m args)), args\n\u001b[0;32m--> 343\u001b[0m   \u001b[39mreturn\u001b[39;00m \u001b[39mself\u001b[39;49m\u001b[39m.\u001b[39;49mbind_with_trace(find_top_trace(args), args, params)\n",
      "File \u001b[0;32m~/opt/anaconda3/envs/brax/lib/python3.9/site-packages/jax/_src/core.py:346\u001b[0m, in \u001b[0;36mPrimitive.bind_with_trace\u001b[0;34m(self, trace, args, params)\u001b[0m\n\u001b[1;32m    345\u001b[0m \u001b[39mdef\u001b[39;00m \u001b[39mbind_with_trace\u001b[39m(\u001b[39mself\u001b[39m, trace, args, params):\n\u001b[0;32m--> 346\u001b[0m   out \u001b[39m=\u001b[39m trace\u001b[39m.\u001b[39;49mprocess_primitive(\u001b[39mself\u001b[39;49m, \u001b[39mmap\u001b[39;49m(trace\u001b[39m.\u001b[39;49mfull_raise, args), params)\n\u001b[1;32m    347\u001b[0m   \u001b[39mreturn\u001b[39;00m \u001b[39mmap\u001b[39m(full_lower, out) \u001b[39mif\u001b[39;00m \u001b[39mself\u001b[39m\u001b[39m.\u001b[39mmultiple_results \u001b[39melse\u001b[39;00m full_lower(out)\n",
      "File \u001b[0;32m~/opt/anaconda3/envs/brax/lib/python3.9/site-packages/jax/_src/core.py:728\u001b[0m, in \u001b[0;36mEvalTrace.process_primitive\u001b[0;34m(self, primitive, tracers, params)\u001b[0m\n\u001b[1;32m    727\u001b[0m \u001b[39mdef\u001b[39;00m \u001b[39mprocess_primitive\u001b[39m(\u001b[39mself\u001b[39m, primitive, tracers, params):\n\u001b[0;32m--> 728\u001b[0m   \u001b[39mreturn\u001b[39;00m primitive\u001b[39m.\u001b[39;49mimpl(\u001b[39m*\u001b[39;49mtracers, \u001b[39m*\u001b[39;49m\u001b[39m*\u001b[39;49mparams)\n",
      "File \u001b[0;32m~/opt/anaconda3/envs/brax/lib/python3.9/site-packages/jax/_src/dispatch.py:122\u001b[0m, in \u001b[0;36mapply_primitive\u001b[0;34m(prim, *args, **params)\u001b[0m\n\u001b[1;32m    120\u001b[0m \u001b[39mdef\u001b[39;00m \u001b[39mapply_primitive\u001b[39m(prim, \u001b[39m*\u001b[39margs, \u001b[39m*\u001b[39m\u001b[39m*\u001b[39mparams):\n\u001b[1;32m    121\u001b[0m \u001b[39m  \u001b[39m\u001b[39m\"\"\"Impl rule that compiles and runs a single primitive 'prim' using XLA.\"\"\"\u001b[39;00m\n\u001b[0;32m--> 122\u001b[0m   compiled_fun \u001b[39m=\u001b[39m xla_primitive_callable(prim, \u001b[39m*\u001b[39;49munsafe_map(arg_spec, args),\n\u001b[1;32m    123\u001b[0m                                         \u001b[39m*\u001b[39;49m\u001b[39m*\u001b[39;49mparams)\n\u001b[1;32m    124\u001b[0m   \u001b[39mreturn\u001b[39;00m compiled_fun(\u001b[39m*\u001b[39margs)\n",
      "File \u001b[0;32m~/opt/anaconda3/envs/brax/lib/python3.9/site-packages/jax/_src/util.py:253\u001b[0m, in \u001b[0;36mcache.<locals>.wrap.<locals>.wrapper\u001b[0;34m(*args, **kwargs)\u001b[0m\n\u001b[1;32m    251\u001b[0m   \u001b[39mreturn\u001b[39;00m f(\u001b[39m*\u001b[39margs, \u001b[39m*\u001b[39m\u001b[39m*\u001b[39mkwargs)\n\u001b[1;32m    252\u001b[0m \u001b[39melse\u001b[39;00m:\n\u001b[0;32m--> 253\u001b[0m   \u001b[39mreturn\u001b[39;00m cached(config\u001b[39m.\u001b[39;49m_trace_context(), \u001b[39m*\u001b[39;49margs, \u001b[39m*\u001b[39;49m\u001b[39m*\u001b[39;49mkwargs)\n",
      "File \u001b[0;32m~/opt/anaconda3/envs/brax/lib/python3.9/site-packages/jax/_src/util.py:246\u001b[0m, in \u001b[0;36mcache.<locals>.wrap.<locals>.cached\u001b[0;34m(_, *args, **kwargs)\u001b[0m\n\u001b[1;32m    244\u001b[0m \u001b[39m@functools\u001b[39m\u001b[39m.\u001b[39mlru_cache(max_size)\n\u001b[1;32m    245\u001b[0m \u001b[39mdef\u001b[39;00m \u001b[39mcached\u001b[39m(_, \u001b[39m*\u001b[39margs, \u001b[39m*\u001b[39m\u001b[39m*\u001b[39mkwargs):\n\u001b[0;32m--> 246\u001b[0m   \u001b[39mreturn\u001b[39;00m f(\u001b[39m*\u001b[39;49margs, \u001b[39m*\u001b[39;49m\u001b[39m*\u001b[39;49mkwargs)\n",
      "File \u001b[0;32m~/opt/anaconda3/envs/brax/lib/python3.9/site-packages/jax/_src/dispatch.py:201\u001b[0m, in \u001b[0;36mxla_primitive_callable\u001b[0;34m(prim, *arg_specs, **params)\u001b[0m\n\u001b[1;32m    199\u001b[0m   \u001b[39melse\u001b[39;00m:\n\u001b[1;32m    200\u001b[0m     \u001b[39mreturn\u001b[39;00m out,\n\u001b[0;32m--> 201\u001b[0m compiled \u001b[39m=\u001b[39m _xla_callable_uncached(lu\u001b[39m.\u001b[39;49mwrap_init(prim_fun), device, \u001b[39mNone\u001b[39;49;00m,\n\u001b[1;32m    202\u001b[0m                                   prim\u001b[39m.\u001b[39;49mname, donated_invars, \u001b[39mFalse\u001b[39;49;00m, \u001b[39m*\u001b[39;49marg_specs)\n\u001b[1;32m    203\u001b[0m \u001b[39mif\u001b[39;00m \u001b[39mnot\u001b[39;00m prim\u001b[39m.\u001b[39mmultiple_results:\n\u001b[1;32m    204\u001b[0m   \u001b[39mreturn\u001b[39;00m \u001b[39mlambda\u001b[39;00m \u001b[39m*\u001b[39margs, \u001b[39m*\u001b[39m\u001b[39m*\u001b[39mkw: compiled(\u001b[39m*\u001b[39margs, \u001b[39m*\u001b[39m\u001b[39m*\u001b[39mkw)[\u001b[39m0\u001b[39m]\n",
      "File \u001b[0;32m~/opt/anaconda3/envs/brax/lib/python3.9/site-packages/jax/_src/dispatch.py:351\u001b[0m, in \u001b[0;36m_xla_callable_uncached\u001b[0;34m(fun, device, backend, name, donated_invars, keep_unused, *arg_specs)\u001b[0m\n\u001b[1;32m    348\u001b[0m \u001b[39mdef\u001b[39;00m \u001b[39m_xla_callable_uncached\u001b[39m(fun: lu\u001b[39m.\u001b[39mWrappedFun, device, backend, name,\n\u001b[1;32m    349\u001b[0m                            donated_invars, keep_unused, \u001b[39m*\u001b[39marg_specs):\n\u001b[1;32m    350\u001b[0m   \u001b[39mif\u001b[39;00m config\u001b[39m.\u001b[39mjax_array:\n\u001b[0;32m--> 351\u001b[0m     computation \u001b[39m=\u001b[39m sharded_lowering(fun, device, backend, name, donated_invars,\n\u001b[1;32m    352\u001b[0m                                    \u001b[39mFalse\u001b[39;49;00m, keep_unused, \u001b[39m*\u001b[39;49marg_specs)\n\u001b[1;32m    353\u001b[0m     allow_prop \u001b[39m=\u001b[39m [\u001b[39mTrue\u001b[39;00m] \u001b[39m*\u001b[39m \u001b[39mlen\u001b[39m(computation\u001b[39m.\u001b[39mcompile_args[\u001b[39m'\u001b[39m\u001b[39mglobal_out_avals\u001b[39m\u001b[39m'\u001b[39m])\n\u001b[1;32m    354\u001b[0m     \u001b[39mreturn\u001b[39;00m computation\u001b[39m.\u001b[39mcompile(_allow_propagation_to_outputs\u001b[39m=\u001b[39mallow_prop)\u001b[39m.\u001b[39munsafe_call\n",
      "File \u001b[0;32m~/opt/anaconda3/envs/brax/lib/python3.9/site-packages/jax/_src/dispatch.py:342\u001b[0m, in \u001b[0;36msharded_lowering\u001b[0;34m(fun, device, backend, name, donated_invars, always_lower, keep_unused, *arg_specs)\u001b[0m\n\u001b[1;32m    337\u001b[0m in_shardings \u001b[39m=\u001b[39m [pxla\u001b[39m.\u001b[39m_UNSPECIFIED \u001b[39mif\u001b[39;00m i \u001b[39mis\u001b[39;00m \u001b[39mNone\u001b[39;00m \u001b[39melse\u001b[39;00m i \u001b[39mfor\u001b[39;00m i \u001b[39min\u001b[39;00m in_shardings]\n\u001b[1;32m    339\u001b[0m \u001b[39m# Pass in a singleton `_UNSPECIFIED` for out_shardings because we don't know\u001b[39;00m\n\u001b[1;32m    340\u001b[0m \u001b[39m# the number of output avals at this stage. lower_sharding_computation will\u001b[39;00m\n\u001b[1;32m    341\u001b[0m \u001b[39m# apply it to all out_avals.\u001b[39;00m\n\u001b[0;32m--> 342\u001b[0m \u001b[39mreturn\u001b[39;00m pxla\u001b[39m.\u001b[39;49mlower_sharding_computation(\n\u001b[1;32m    343\u001b[0m     fun, \u001b[39m'\u001b[39;49m\u001b[39mjit\u001b[39;49m\u001b[39m'\u001b[39;49m, name, in_shardings, pxla\u001b[39m.\u001b[39;49m_UNSPECIFIED, donated_invars,\n\u001b[1;32m    344\u001b[0m     in_avals, in_is_global\u001b[39m=\u001b[39;49m(\u001b[39mTrue\u001b[39;49;00m,) \u001b[39m*\u001b[39;49m \u001b[39mlen\u001b[39;49m(arg_specs), keep_unused\u001b[39m=\u001b[39;49mkeep_unused,\n\u001b[1;32m    345\u001b[0m     always_lower\u001b[39m=\u001b[39;49malways_lower, devices_from_context\u001b[39m=\u001b[39;49mda)\n",
      "File \u001b[0;32m~/opt/anaconda3/envs/brax/lib/python3.9/site-packages/jax/_src/profiler.py:314\u001b[0m, in \u001b[0;36mannotate_function.<locals>.wrapper\u001b[0;34m(*args, **kwargs)\u001b[0m\n\u001b[1;32m    311\u001b[0m \u001b[39m@wraps\u001b[39m(func)\n\u001b[1;32m    312\u001b[0m \u001b[39mdef\u001b[39;00m \u001b[39mwrapper\u001b[39m(\u001b[39m*\u001b[39margs, \u001b[39m*\u001b[39m\u001b[39m*\u001b[39mkwargs):\n\u001b[1;32m    313\u001b[0m   \u001b[39mwith\u001b[39;00m TraceAnnotation(name, \u001b[39m*\u001b[39m\u001b[39m*\u001b[39mdecorator_kwargs):\n\u001b[0;32m--> 314\u001b[0m     \u001b[39mreturn\u001b[39;00m func(\u001b[39m*\u001b[39;49margs, \u001b[39m*\u001b[39;49m\u001b[39m*\u001b[39;49mkwargs)\n\u001b[1;32m    315\u001b[0m   \u001b[39mreturn\u001b[39;00m wrapper\n",
      "File \u001b[0;32m~/opt/anaconda3/envs/brax/lib/python3.9/site-packages/jax/_src/interpreters/pxla.py:2797\u001b[0m, in \u001b[0;36mlower_sharding_computation\u001b[0;34m(fun, api_name, fun_name, in_shardings, out_shardings, donated_invars, global_in_avals, in_is_global, keep_unused, always_lower, devices_from_context)\u001b[0m\n\u001b[1;32m   2792\u001b[0m name_stack \u001b[39m=\u001b[39m new_name_stack(wrap_name(fun_name, api_name))\n\u001b[1;32m   2794\u001b[0m \u001b[39mwith\u001b[39;00m dispatch\u001b[39m.\u001b[39mlog_elapsed_time(\u001b[39mf\u001b[39m\u001b[39m\"\u001b[39m\u001b[39mFinished tracing + transforming \u001b[39m\u001b[39m{\u001b[39;00mname_stack\u001b[39m}\u001b[39;00m\u001b[39m \u001b[39m\u001b[39m\"\u001b[39m\n\u001b[1;32m   2795\u001b[0m                                \u001b[39m\"\u001b[39m\u001b[39min \u001b[39m\u001b[39m{elapsed_time}\u001b[39;00m\u001b[39m sec\u001b[39m\u001b[39m\"\u001b[39m,\n\u001b[1;32m   2796\u001b[0m                                event\u001b[39m=\u001b[39mdispatch\u001b[39m.\u001b[39mJAXPR_TRACE_EVENT):\n\u001b[0;32m-> 2797\u001b[0m   jaxpr, global_out_avals, consts \u001b[39m=\u001b[39m pe\u001b[39m.\u001b[39;49mtrace_to_jaxpr_final(\n\u001b[1;32m   2798\u001b[0m       fun, global_in_avals, debug_info\u001b[39m=\u001b[39;49mpe\u001b[39m.\u001b[39;49mdebug_info_final(fun, api_name))\n\u001b[1;32m   2799\u001b[0m kept_outputs \u001b[39m=\u001b[39m [\u001b[39mTrue\u001b[39;00m] \u001b[39m*\u001b[39m \u001b[39mlen\u001b[39m(global_out_avals)\n\u001b[1;32m   2801\u001b[0m \u001b[39mif\u001b[39;00m _is_unspecified(out_shardings):\n",
      "File \u001b[0;32m~/opt/anaconda3/envs/brax/lib/python3.9/site-packages/jax/_src/profiler.py:314\u001b[0m, in \u001b[0;36mannotate_function.<locals>.wrapper\u001b[0;34m(*args, **kwargs)\u001b[0m\n\u001b[1;32m    311\u001b[0m \u001b[39m@wraps\u001b[39m(func)\n\u001b[1;32m    312\u001b[0m \u001b[39mdef\u001b[39;00m \u001b[39mwrapper\u001b[39m(\u001b[39m*\u001b[39margs, \u001b[39m*\u001b[39m\u001b[39m*\u001b[39mkwargs):\n\u001b[1;32m    313\u001b[0m   \u001b[39mwith\u001b[39;00m TraceAnnotation(name, \u001b[39m*\u001b[39m\u001b[39m*\u001b[39mdecorator_kwargs):\n\u001b[0;32m--> 314\u001b[0m     \u001b[39mreturn\u001b[39;00m func(\u001b[39m*\u001b[39;49margs, \u001b[39m*\u001b[39;49m\u001b[39m*\u001b[39;49mkwargs)\n\u001b[1;32m    315\u001b[0m   \u001b[39mreturn\u001b[39;00m wrapper\n",
      "File \u001b[0;32m~/opt/anaconda3/envs/brax/lib/python3.9/site-packages/jax/interpreters/partial_eval.py:2073\u001b[0m, in \u001b[0;36mtrace_to_jaxpr_final\u001b[0;34m(fun, in_avals, debug_info, keep_inputs)\u001b[0m\n\u001b[1;32m   2071\u001b[0m   main\u001b[39m.\u001b[39mjaxpr_stack \u001b[39m=\u001b[39m ()  \u001b[39m# type: ignore\u001b[39;00m\n\u001b[1;32m   2072\u001b[0m   \u001b[39mwith\u001b[39;00m core\u001b[39m.\u001b[39mnew_sublevel():\n\u001b[0;32m-> 2073\u001b[0m     jaxpr, out_avals, consts \u001b[39m=\u001b[39m trace_to_subjaxpr_dynamic(\n\u001b[1;32m   2074\u001b[0m       fun, main, in_avals, keep_inputs\u001b[39m=\u001b[39;49mkeep_inputs, debug_info\u001b[39m=\u001b[39;49mdebug_info)\n\u001b[1;32m   2075\u001b[0m   \u001b[39mdel\u001b[39;00m fun, main\n\u001b[1;32m   2076\u001b[0m \u001b[39mreturn\u001b[39;00m jaxpr, out_avals, consts\n",
      "File \u001b[0;32m~/opt/anaconda3/envs/brax/lib/python3.9/site-packages/jax/interpreters/partial_eval.py:2006\u001b[0m, in \u001b[0;36mtrace_to_subjaxpr_dynamic\u001b[0;34m(fun, main, in_avals, keep_inputs, debug_info)\u001b[0m\n\u001b[1;32m   2004\u001b[0m in_tracers \u001b[39m=\u001b[39m _input_type_to_tracers(trace\u001b[39m.\u001b[39mnew_arg, in_avals)\n\u001b[1;32m   2005\u001b[0m in_tracers_ \u001b[39m=\u001b[39m [t \u001b[39mfor\u001b[39;00m t, keep \u001b[39min\u001b[39;00m \u001b[39mzip\u001b[39m(in_tracers, keep_inputs) \u001b[39mif\u001b[39;00m keep]\n\u001b[0;32m-> 2006\u001b[0m ans \u001b[39m=\u001b[39m fun\u001b[39m.\u001b[39;49mcall_wrapped(\u001b[39m*\u001b[39;49min_tracers_)\n\u001b[1;32m   2007\u001b[0m out_tracers \u001b[39m=\u001b[39m \u001b[39mmap\u001b[39m(trace\u001b[39m.\u001b[39mfull_raise, ans)\n\u001b[1;32m   2008\u001b[0m jaxpr, consts \u001b[39m=\u001b[39m frame\u001b[39m.\u001b[39mto_jaxpr(out_tracers)\n",
      "File \u001b[0;32m~/opt/anaconda3/envs/brax/lib/python3.9/site-packages/jax/_src/linear_util.py:165\u001b[0m, in \u001b[0;36mWrappedFun.call_wrapped\u001b[0;34m(self, *args, **kwargs)\u001b[0m\n\u001b[1;32m    162\u001b[0m gen \u001b[39m=\u001b[39m gen_static_args \u001b[39m=\u001b[39m out_store \u001b[39m=\u001b[39m \u001b[39mNone\u001b[39;00m\n\u001b[1;32m    164\u001b[0m \u001b[39mtry\u001b[39;00m:\n\u001b[0;32m--> 165\u001b[0m   ans \u001b[39m=\u001b[39m \u001b[39mself\u001b[39;49m\u001b[39m.\u001b[39;49mf(\u001b[39m*\u001b[39;49margs, \u001b[39m*\u001b[39;49m\u001b[39m*\u001b[39;49m\u001b[39mdict\u001b[39;49m(\u001b[39mself\u001b[39;49m\u001b[39m.\u001b[39;49mparams, \u001b[39m*\u001b[39;49m\u001b[39m*\u001b[39;49mkwargs))\n\u001b[1;32m    166\u001b[0m \u001b[39mexcept\u001b[39;00m:\n\u001b[1;32m    167\u001b[0m   \u001b[39m# Some transformations yield from inside context managers, so we have to\u001b[39;00m\n\u001b[1;32m    168\u001b[0m   \u001b[39m# interrupt them before reraising the exception. Otherwise they will only\u001b[39;00m\n\u001b[1;32m    169\u001b[0m   \u001b[39m# get garbage-collected at some later time, running their cleanup tasks\u001b[39;00m\n\u001b[1;32m    170\u001b[0m   \u001b[39m# only after this exception is handled, which can corrupt the global\u001b[39;00m\n\u001b[1;32m    171\u001b[0m   \u001b[39m# state.\u001b[39;00m\n\u001b[1;32m    172\u001b[0m   \u001b[39mwhile\u001b[39;00m stack:\n",
      "File \u001b[0;32m~/opt/anaconda3/envs/brax/lib/python3.9/site-packages/jax/_src/dispatch.py:196\u001b[0m, in \u001b[0;36mxla_primitive_callable.<locals>.prim_fun\u001b[0;34m(*args)\u001b[0m\n\u001b[1;32m    195\u001b[0m \u001b[39mdef\u001b[39;00m \u001b[39mprim_fun\u001b[39m(\u001b[39m*\u001b[39margs):\n\u001b[0;32m--> 196\u001b[0m   out \u001b[39m=\u001b[39m prim\u001b[39m.\u001b[39;49mbind(\u001b[39m*\u001b[39;49margs, \u001b[39m*\u001b[39;49m\u001b[39m*\u001b[39;49mparams)\n\u001b[1;32m    197\u001b[0m   \u001b[39mif\u001b[39;00m prim\u001b[39m.\u001b[39mmultiple_results:\n\u001b[1;32m    198\u001b[0m     \u001b[39mreturn\u001b[39;00m out\n",
      "File \u001b[0;32m~/opt/anaconda3/envs/brax/lib/python3.9/site-packages/jax/_src/core.py:343\u001b[0m, in \u001b[0;36mPrimitive.bind\u001b[0;34m(self, *args, **params)\u001b[0m\n\u001b[1;32m    340\u001b[0m \u001b[39mdef\u001b[39;00m \u001b[39mbind\u001b[39m(\u001b[39mself\u001b[39m, \u001b[39m*\u001b[39margs, \u001b[39m*\u001b[39m\u001b[39m*\u001b[39mparams):\n\u001b[1;32m    341\u001b[0m   \u001b[39massert\u001b[39;00m (\u001b[39mnot\u001b[39;00m config\u001b[39m.\u001b[39mjax_enable_checks \u001b[39mor\u001b[39;00m\n\u001b[1;32m    342\u001b[0m           \u001b[39mall\u001b[39m(\u001b[39misinstance\u001b[39m(arg, Tracer) \u001b[39mor\u001b[39;00m valid_jaxtype(arg) \u001b[39mfor\u001b[39;00m arg \u001b[39min\u001b[39;00m args)), args\n\u001b[0;32m--> 343\u001b[0m   \u001b[39mreturn\u001b[39;00m \u001b[39mself\u001b[39;49m\u001b[39m.\u001b[39;49mbind_with_trace(find_top_trace(args), args, params)\n",
      "File \u001b[0;32m~/opt/anaconda3/envs/brax/lib/python3.9/site-packages/jax/_src/core.py:346\u001b[0m, in \u001b[0;36mPrimitive.bind_with_trace\u001b[0;34m(self, trace, args, params)\u001b[0m\n\u001b[1;32m    345\u001b[0m \u001b[39mdef\u001b[39;00m \u001b[39mbind_with_trace\u001b[39m(\u001b[39mself\u001b[39m, trace, args, params):\n\u001b[0;32m--> 346\u001b[0m   out \u001b[39m=\u001b[39m trace\u001b[39m.\u001b[39;49mprocess_primitive(\u001b[39mself\u001b[39;49m, \u001b[39mmap\u001b[39;49m(trace\u001b[39m.\u001b[39;49mfull_raise, args), params)\n\u001b[1;32m    347\u001b[0m   \u001b[39mreturn\u001b[39;00m \u001b[39mmap\u001b[39m(full_lower, out) \u001b[39mif\u001b[39;00m \u001b[39mself\u001b[39m\u001b[39m.\u001b[39mmultiple_results \u001b[39melse\u001b[39;00m full_lower(out)\n",
      "File \u001b[0;32m~/opt/anaconda3/envs/brax/lib/python3.9/site-packages/jax/interpreters/partial_eval.py:1720\u001b[0m, in \u001b[0;36mDynamicJaxprTrace.process_primitive\u001b[0;34m(self, primitive, tracers, params)\u001b[0m\n\u001b[1;32m   1718\u001b[0m \u001b[39mdef\u001b[39;00m \u001b[39mprocess_primitive\u001b[39m(\u001b[39mself\u001b[39m, primitive, tracers, params):\n\u001b[1;32m   1719\u001b[0m   \u001b[39mif\u001b[39;00m primitive \u001b[39min\u001b[39;00m custom_staging_rules:\n\u001b[0;32m-> 1720\u001b[0m     \u001b[39mreturn\u001b[39;00m custom_staging_rules[primitive](\u001b[39mself\u001b[39;49m, \u001b[39m*\u001b[39;49mtracers, \u001b[39m*\u001b[39;49m\u001b[39m*\u001b[39;49mparams)\n\u001b[1;32m   1721\u001b[0m   \u001b[39mreturn\u001b[39;00m \u001b[39mself\u001b[39m\u001b[39m.\u001b[39mdefault_process_primitive(primitive, tracers, params)\n",
      "File \u001b[0;32m~/opt/anaconda3/envs/brax/lib/python3.9/site-packages/jax/_src/lax/slicing.py:901\u001b[0m, in \u001b[0;36m_dynamic_slice_staging_rule\u001b[0;34m(trace, x, slice_sizes, *starts_and_dyn_sizes)\u001b[0m\n\u001b[1;32m    899\u001b[0m start_indices, dyn \u001b[39m=\u001b[39m util\u001b[39m.\u001b[39msplit_list(starts_and_dyn_sizes, [x\u001b[39m.\u001b[39mndim])\n\u001b[1;32m    900\u001b[0m \u001b[39mif\u001b[39;00m \u001b[39mnot\u001b[39;00m dyn:\n\u001b[0;32m--> 901\u001b[0m   \u001b[39mreturn\u001b[39;00m trace\u001b[39m.\u001b[39;49mdefault_process_primitive(dynamic_slice_p, (x, \u001b[39m*\u001b[39;49mstart_indices),\n\u001b[1;32m    902\u001b[0m                                          \u001b[39mdict\u001b[39;49m(slice_sizes\u001b[39m=\u001b[39;49mslice_sizes))\n\u001b[1;32m    903\u001b[0m shape \u001b[39m=\u001b[39m lax\u001b[39m.\u001b[39m_merge_dyn_shape(slice_sizes, dyn)\n\u001b[1;32m    904\u001b[0m aval \u001b[39m=\u001b[39m core\u001b[39m.\u001b[39mDShapedArray(shape, x\u001b[39m.\u001b[39mdtype, \u001b[39mFalse\u001b[39;00m)\n",
      "File \u001b[0;32m~/opt/anaconda3/envs/brax/lib/python3.9/site-packages/jax/interpreters/partial_eval.py:1725\u001b[0m, in \u001b[0;36mDynamicJaxprTrace.default_process_primitive\u001b[0;34m(self, primitive, tracers, params)\u001b[0m\n\u001b[1;32m   1723\u001b[0m \u001b[39mdef\u001b[39;00m \u001b[39mdefault_process_primitive\u001b[39m(\u001b[39mself\u001b[39m, primitive, tracers, params):\n\u001b[1;32m   1724\u001b[0m   avals \u001b[39m=\u001b[39m [t\u001b[39m.\u001b[39maval \u001b[39mfor\u001b[39;00m t \u001b[39min\u001b[39;00m tracers]\n\u001b[0;32m-> 1725\u001b[0m   out_avals, effects \u001b[39m=\u001b[39m primitive\u001b[39m.\u001b[39;49mabstract_eval(\u001b[39m*\u001b[39;49mavals, \u001b[39m*\u001b[39;49m\u001b[39m*\u001b[39;49mparams)\n\u001b[1;32m   1726\u001b[0m   out_avals \u001b[39m=\u001b[39m [out_avals] \u001b[39mif\u001b[39;00m \u001b[39mnot\u001b[39;00m primitive\u001b[39m.\u001b[39mmultiple_results \u001b[39melse\u001b[39;00m out_avals\n\u001b[1;32m   1727\u001b[0m   source_info \u001b[39m=\u001b[39m source_info_util\u001b[39m.\u001b[39mcurrent()\n",
      "File \u001b[0;32m~/opt/anaconda3/envs/brax/lib/python3.9/site-packages/jax/_src/core.py:379\u001b[0m, in \u001b[0;36m_effect_free_abstract_eval.<locals>.abstract_eval_\u001b[0;34m(*args, **kwargs)\u001b[0m\n\u001b[1;32m    378\u001b[0m \u001b[39mdef\u001b[39;00m \u001b[39mabstract_eval_\u001b[39m(\u001b[39m*\u001b[39margs, \u001b[39m*\u001b[39m\u001b[39m*\u001b[39mkwargs):\n\u001b[0;32m--> 379\u001b[0m   \u001b[39mreturn\u001b[39;00m abstract_eval(\u001b[39m*\u001b[39;49margs, \u001b[39m*\u001b[39;49m\u001b[39m*\u001b[39;49mkwargs), no_effects\n",
      "File \u001b[0;32m~/opt/anaconda3/envs/brax/lib/python3.9/site-packages/jax/_src/lax/utils.py:66\u001b[0m, in \u001b[0;36mstandard_abstract_eval\u001b[0;34m(prim, shape_rule, dtype_rule, weak_type_rule, named_shape_rule, *avals, **kwargs)\u001b[0m\n\u001b[1;32m     64\u001b[0m   \u001b[39mreturn\u001b[39;00m core\u001b[39m.\u001b[39mConcreteArray(out\u001b[39m.\u001b[39mdtype, out, weak_type\u001b[39m=\u001b[39mweak_type)\n\u001b[1;32m     65\u001b[0m \u001b[39melif\u001b[39;00m least_specialized \u001b[39mis\u001b[39;00m core\u001b[39m.\u001b[39mShapedArray:\n\u001b[0;32m---> 66\u001b[0m   \u001b[39mreturn\u001b[39;00m core\u001b[39m.\u001b[39mShapedArray(shape_rule(\u001b[39m*\u001b[39;49mavals, \u001b[39m*\u001b[39;49m\u001b[39m*\u001b[39;49mkwargs),\n\u001b[1;32m     67\u001b[0m                           dtype_rule(\u001b[39m*\u001b[39mavals, \u001b[39m*\u001b[39m\u001b[39m*\u001b[39mkwargs), weak_type\u001b[39m=\u001b[39mweak_type,\n\u001b[1;32m     68\u001b[0m                           named_shape\u001b[39m=\u001b[39mnamed_shape_rule(\u001b[39m*\u001b[39mavals, \u001b[39m*\u001b[39m\u001b[39m*\u001b[39mkwargs))\n\u001b[1;32m     69\u001b[0m \u001b[39melif\u001b[39;00m least_specialized \u001b[39mis\u001b[39;00m core\u001b[39m.\u001b[39mDShapedArray:\n\u001b[1;32m     70\u001b[0m   shape \u001b[39m=\u001b[39m shape_rule(\u001b[39m*\u001b[39mavals, \u001b[39m*\u001b[39m\u001b[39m*\u001b[39mkwargs)\n",
      "File \u001b[0;32m~/opt/anaconda3/envs/brax/lib/python3.9/site-packages/jax/_src/lax/slicing.py:836\u001b[0m, in \u001b[0;36m_dynamic_slice_shape_rule\u001b[0;34m(operand, slice_sizes, *start_indices)\u001b[0m\n\u001b[1;32m    834\u001b[0m   \u001b[39mraise\u001b[39;00m \u001b[39mTypeError\u001b[39;00m(msg\u001b[39m.\u001b[39mformat(slice_sizes))\n\u001b[1;32m    835\u001b[0m \u001b[39mif\u001b[39;00m \u001b[39many\u001b[39m(idx\u001b[39m.\u001b[39mndim \u001b[39m!=\u001b[39m \u001b[39m0\u001b[39m \u001b[39mfor\u001b[39;00m idx \u001b[39min\u001b[39;00m start_indices):\n\u001b[0;32m--> 836\u001b[0m   \u001b[39mraise\u001b[39;00m \u001b[39mTypeError\u001b[39;00m(\u001b[39m\"\u001b[39m\u001b[39mstart_indices arguments to dynamic_slice must be scalars, \u001b[39m\u001b[39m\"\u001b[39m\n\u001b[1;32m    837\u001b[0m                   \u001b[39mf\u001b[39m\u001b[39m\"\u001b[39m\u001b[39m got indices \u001b[39m\u001b[39m{\u001b[39;00mstart_indices\u001b[39m}\u001b[39;00m\u001b[39m\"\u001b[39m)\n\u001b[1;32m    838\u001b[0m \u001b[39mreturn\u001b[39;00m \u001b[39mtuple\u001b[39m(slice_sizes)\n",
      "\u001b[0;31mTypeError\u001b[0m: start_indices arguments to dynamic_slice must be scalars,  got indices (ShapedArray(int32[5]), ShapedArray(int32[]))"
     ]
    }
   ],
   "source": [
    "# example of how to use dynamic slice in dim\n",
    "\n",
    "arr = jnp.arange(20).reshape((5, 4))\n",
    "test = jax.lax.dynamic_slice_in_dim(arr, jnp.array([1, 2, 3, 4, 5]), 1, axis=0)"
   ]
  },
  {
   "cell_type": "code",
   "execution_count": 3,
   "metadata": {},
   "outputs": [
    {
     "name": "stdout",
     "output_type": "stream",
     "text": [
      "Collecting zstandard\n",
      "  Downloading zstandard-0.20.0-cp39-cp39-macosx_10_9_x86_64.whl (456 kB)\n",
      "\u001b[2K     \u001b[90m━━━━━━━━━━━━━━━━━━━━━━━━━━━━━━━━━━━━━━━\u001b[0m \u001b[32m456.0/456.0 kB\u001b[0m \u001b[31m2.1 MB/s\u001b[0m eta \u001b[36m0:00:00\u001b[0m00:01\u001b[0m00:01\u001b[0m\n",
      "\u001b[?25hInstalling collected packages: zstandard\n",
      "Successfully installed zstandard-0.20.0\n"
     ]
    }
   ],
   "source": [
    "!pip install zstandard"
   ]
  },
  {
   "cell_type": "code",
   "execution_count": 24,
   "metadata": {},
   "outputs": [
    {
     "name": "stdout",
     "output_type": "stream",
     "text": [
      "Data size: 11360289 bytes\n",
      "Compressed data size: 400 bytes\n"
     ]
    }
   ],
   "source": [
    "import zlib\n",
    "import zstandard as zstd\n",
    "import numpy as np\n",
    "import sys\n",
    "\n",
    "# Create some sample data to compress\n",
    "data = np.zeros((128, 3, 86, 86), dtype=np.float32).tobytes()\n",
    "print(f\"Data size: {sys.getsizeof(data)} bytes\")\n",
    "\n",
    "# Compress the data using Zstd\n",
    "cctx = zstd.ZstdCompressor()\n",
    "compressed_data = cctx.compress(data)\n",
    "print(f\"Compressed data size: {sys.getsizeof(compressed_data)} bytes\")"
   ]
  },
  {
   "cell_type": "code",
   "execution_count": 63,
   "metadata": {},
   "outputs": [],
   "source": [
    "import numpy as np\n",
    "import zstandard as zstd\n",
    "\n",
    "# Create a large NumPy array\n",
    "arr = np.zeros((1024, 64, 84, 84), dtype=np.float32)\n",
    "arr = arr.tobytes()"
   ]
  },
  {
   "cell_type": "code",
   "execution_count": 64,
   "metadata": {},
   "outputs": [
    {
     "name": "stdout",
     "output_type": "stream",
     "text": [
      "342 ms ± 16.6 ms per loop (mean ± std. dev. of 7 runs, 1 loop each)\n"
     ]
    }
   ],
   "source": [
    "# Compress the array using Zstd\n",
    "cctx = zstd.ZstdCompressor()\n",
    "%timeit compressed_data = cctx.compress(arr)"
   ]
  },
  {
   "cell_type": "code",
   "execution_count": 62,
   "metadata": {},
   "outputs": [
    {
     "name": "stdout",
     "output_type": "stream",
     "text": [
      "906 ms ± 82.7 ms per loop (mean ± std. dev. of 7 runs, 1 loop each)\n"
     ]
    }
   ],
   "source": [
    "# Decompress the data using Zstd\n",
    "dctx = zstd.ZstdDecompressor()\n",
    "%timeit decompressed_data = np.frombuffer(dctx.decompress(compressed_data), dtype=arr.dtype)"
   ]
  },
  {
   "cell_type": "code",
   "execution_count": null,
   "metadata": {},
   "outputs": [],
   "source": [
    "# Verify that the decompressed data matches the original array\n",
    "shaped_decompressed_data = decompressed_data.reshape(arr.shape)\n",
    "assert np.array_equal(shaped_decompressed_data, arr)"
   ]
  },
  {
   "cell_type": "code",
   "execution_count": 59,
   "metadata": {},
   "outputs": [
    {
     "name": "stdout",
     "output_type": "stream",
     "text": [
      "original_data_size: 1849688064\n",
      "compressed_data_size: 56467\n",
      "decompressed_data: 1849688064\n"
     ]
    },
    {
     "data": {
      "text/plain": [
       "99.99694721498727"
      ]
     },
     "execution_count": 59,
     "metadata": {},
     "output_type": "execute_result"
    }
   ],
   "source": [
    "# compression factor\n",
    "original_data_size = arr.nbytes\n",
    "compressed_data_size = len(compressed_data)\n",
    "decompressed_data_size = decompressed_data.nbytes\n",
    "\n",
    "print(f\"original_data_size: {original_data_size}\")\n",
    "print(f\"compressed_data_size: {compressed_data_size}\")\n",
    "print(f\"decompressed_data: {decompressed_data_size}\")\n",
    "\n",
    "# % compression\n",
    "percent_compression = (original_data_size - compressed_data_size) / original_data_size * 100\n",
    "percent_compression"
   ]
  },
  {
   "cell_type": "code",
   "execution_count": 46,
   "metadata": {},
   "outputs": [
    {
     "data": {
      "text/plain": [
       "1849688064"
      ]
     },
     "execution_count": 46,
     "metadata": {},
     "output_type": "execute_result"
    }
   ],
   "source": [
    "1024 * 64 * 84 * 84 * 4 #/ (1024**3)"
   ]
  },
  {
   "cell_type": "code",
   "execution_count": null,
   "metadata": {},
   "outputs": [],
   "source": [
    "# Note to self: it is faster to reuse the compressor and decompressor objects"
   ]
  },
  {
   "cell_type": "code",
   "execution_count": 77,
   "metadata": {},
   "outputs": [],
   "source": [
    "from replay_buffer import GameHistory\n",
    "\n",
    "history = GameHistory(500)\n",
    "\n",
    "observations = np.zeros((500, 3, 84, 84), dtype=np.float32)\n",
    "actions = np.zeros((500,), dtype=np.float32)\n",
    "values = np.zeros((500,), dtype=np.float32)\n",
    "policy = np.zeros((500, 18), dtype=np.float32)\n",
    "reward = np.zeros((500,), dtype=np.float32)\n",
    "done = np.zeros((500,), dtype=np.float32)\n",
    "\n",
    "history.init(observations, actions, values, policy, reward, done)"
   ]
  },
  {
   "cell_type": "code",
   "execution_count": 79,
   "metadata": {},
   "outputs": [
    {
     "name": "stdout",
     "output_type": "stream",
     "text": [
      "Size of history: 0.039531199261546135 GB\n"
     ]
    }
   ],
   "source": [
    "import pickle \n",
    "\n",
    "history_bytes = pickle.dumps(history)\n",
    "history_size = len(history_bytes)\n",
    "history_size_in_gb = history_size / (1024**3)\n",
    "\n",
    "print(f\"Size of history: {history_size_in_gb} GB\")"
   ]
  },
  {
   "cell_type": "code",
   "execution_count": 81,
   "metadata": {},
   "outputs": [],
   "source": [
    "cctx = zstd.ZstdCompressor()\n",
    "compressed_data = cctx.compress(history_bytes)"
   ]
  },
  {
   "cell_type": "code",
   "execution_count": 82,
   "metadata": {},
   "outputs": [
    {
     "data": {
      "text/plain": [
       "4.0102750062942505e-06"
      ]
     },
     "execution_count": 82,
     "metadata": {},
     "output_type": "execute_result"
    }
   ],
   "source": [
    "compressed_data_size = len(compressed_data)\n",
    "compressed_data_size_in_gb = compressed_data_size / (1024**3)\n",
    "compressed_data_size_in_gb"
   ]
  },
  {
   "cell_type": "code",
   "execution_count": 83,
   "metadata": {},
   "outputs": [
    {
     "data": {
      "text/plain": [
       "99.98985541779352"
      ]
     },
     "execution_count": 83,
     "metadata": {},
     "output_type": "execute_result"
    }
   ],
   "source": [
    "# % compression\n",
    "compression_per = (history_size - compressed_data_size) / history_size * 100\n",
    "compression_per"
   ]
  },
  {
   "cell_type": "code",
   "execution_count": 85,
   "metadata": {},
   "outputs": [
    {
     "data": {
      "text/plain": [
       "0.20051375031471252"
      ]
     },
     "execution_count": 85,
     "metadata": {},
     "output_type": "execute_result"
    }
   ],
   "source": [
    "compressed_data_size * 50_000 / (1024**3)"
   ]
  },
  {
   "cell_type": "code",
   "execution_count": null,
   "metadata": {},
   "outputs": [],
   "source": []
  }
 ],
 "metadata": {
  "kernelspec": {
   "display_name": "brax",
   "language": "python",
   "name": "python3"
  },
  "language_info": {
   "codemirror_mode": {
    "name": "ipython",
    "version": 3
   },
   "file_extension": ".py",
   "mimetype": "text/x-python",
   "name": "python",
   "nbconvert_exporter": "python",
   "pygments_lexer": "ipython3",
   "version": "3.9.16"
  },
  "orig_nbformat": 4,
  "vscode": {
   "interpreter": {
    "hash": "72f1a82eef30b44791b3cd3d3ca8dcf7989ec1d40ce9f4b0dd8080c0b8620f7b"
   }
  }
 },
 "nbformat": 4,
 "nbformat_minor": 2
}
